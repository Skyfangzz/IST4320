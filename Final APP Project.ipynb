{
 "cells": [
  {
   "cell_type": "code",
   "execution_count": 29,
   "id": "378d9332-f626-44fa-af0f-1419926a0691",
   "metadata": {
    "tags": []
   },
   "outputs": [],
   "source": [
    "import tkinter as tk\n",
    "from tkinter import ttk\n",
    "\n",
    "main = tk.Tk()\n",
    "main.title(\"Game Console\")\n",
    "game = tk.StringVar()\n",
    "platform_pick = ttk.Combobox(main, width = 27, textvariable = game)\n",
    "platform_pick['values'] = ('PC', \n",
    "                          'Nintendo Switch',\n",
    "                          'PS5',\n",
    "                          'XBOX')\n",
    "\n",
    "def getplatform():\n",
    "    \n",
    "    game = \"You have chosen: \" + platform_pick.get()\n",
    "    popup = tk.Toplevel(main)\n",
    "    popup.title(\"Console Chosen\")\n",
    "    popup_label = tk.Label(popup, text=game, font=('calibre',14,'normal'))\n",
    "    popup_label.pack()\n",
    "    \n",
    "submit_button = tk.Button(main,\n",
    "    text=\"This is the best console!!!!\",\n",
    "    font=('calibre',15,'normal'),                      \n",
    "    command = getplatform)\n",
    "\n",
    "photo = tk.PhotoImage(file=\"console war.png\") \n",
    "label = tk.Label(main, text=\"Salutation there my Gaming Enthusiasts! What is your favorite platform to game on?\", image=photo, compound='top',fg=\"Green\", font=(\"Comic Sans MS\", 16),bg=\"lightblue\",) \n",
    "button = tk.Button(main, text=\"I dont know what platform to choose!!!!!\",fg=\"Red\",font=(\"Forte\", 18),bg= \"black\",  \n",
    "    command = main.destroy)\n",
    "label.pack() \n",
    "button.pack()\n",
    "platform_pick.pack()\n",
    "submit_button.pack()\n",
    "platform_pick.current(0)\n",
    "main.mainloop() "
   ]
  },
  {
   "cell_type": "code",
   "execution_count": 26,
   "id": "c2ea1796-0fd1-461e-ac7a-130a5ce6a593",
   "metadata": {
    "tags": []
   },
   "outputs": [],
   "source": [
    "import sqlite3\n",
    "sql_connect = sqlite3.connect('database.db')\n",
    "cur = sql_connect.cursor() \n",
    "\n",
    "cur.execute('''\n",
    "CREATE TABLE IF NOT EXISTS app_data (\n",
    "    name TEXT,\n",
    "    platform TEXT,\n",
    "    age INTEGER\n",
    "    )\n",
    "''')\n",
    "sql_connect.commit()"
   ]
  },
  {
   "cell_type": "code",
   "execution_count": 27,
   "id": "e6d82cb2-303b-45ab-b090-6e461a2a3bcc",
   "metadata": {
    "collapsed": true,
    "jupyter": {
     "outputs_hidden": true
    },
    "tags": []
   },
   "outputs": [
    {
     "name": "stderr",
     "output_type": "stream",
     "text": [
      "Exception in Tkinter callback\n",
      "Traceback (most recent call last):\n",
      "  File \"C:\\Users\\bobby\\anaconda3\\Lib\\tkinter\\__init__.py\", line 1948, in __call__\n",
      "    return self.func(*args)\n",
      "           ^^^^^^^^^^^^^^^^\n",
      "  File \"C:\\Users\\bobby\\AppData\\Local\\Temp\\ipykernel_18992\\3834860394.py\", line 33, in getNameAgePlatform\n",
      "    cur.execute(query, (name, age, platform))\n",
      "sqlite3.OperationalError: table app_data has no column named platform\n"
     ]
    }
   ],
   "source": [
    "import tkinter as tk\n",
    "main = tk.Tk() \n",
    "\n",
    "name_var = tk.StringVar()\n",
    "age_var = tk.IntVar() \n",
    "platform_var = tk.StringVar()\n",
    "\n",
    "label_age = tk.Label(main, text=\"What is your age?\",\n",
    "                 font=('helvetica',14,'bold'))\n",
    "age_entry = tk.Entry(main,\n",
    "    textvariable = age_var,\n",
    "    font=('calibre',14,'normal'))                    \n",
    "\n",
    "label_name = tk.Label(main, text=\"What is your name?\",\n",
    "                 font=('helvetica',14,'bold'))\n",
    "name_entry = tk.Entry(main, \n",
    "    textvariable = name_var, \n",
    "    font=('calibre',14,'normal'))\n",
    "\n",
    "label_platform = tk.Label(main, text=\"What is the platform you chose?\",\n",
    "                 font=('helvetica',14,'bold'))\n",
    "platform_entry = tk.Entry(main, \n",
    "    textvariable = platform_var, \n",
    "    font=('calibre',14,'normal'))\n",
    "\n",
    "\n",
    "def getNameAgePlatform():\n",
    "    name = name_var.get()\n",
    "    age = age_var.get()\n",
    "    platform = platform_var.get()\n",
    "\n",
    "    query = \"INSERT INTO app_data (name, age, platform) VALUES (?, ?, ?)\"\n",
    "    cur.execute(query, (name, age, platform))\n",
    "    sql_connect.commit()\n",
    "\n",
    "    name_var.set(\"\")\n",
    "    age_var.set(\"\")\n",
    "    platform_var.set(\"\")\n",
    "    main.destroy()\n",
    "    \n",
    "submit_button = tk.Button(main,\n",
    "    text=\"Submit\",\n",
    "    font=('calibre',14,'normal'),\n",
    "    command = getNameAgePlatform)\n",
    "\n",
    "label_age.pack()\n",
    "age_entry.pack()\n",
    "label_name.pack()\n",
    "name_entry.pack()\n",
    "label_platform.pack()\n",
    "platform_entry.pack()\n",
    "submit_button.pack()\n",
    "main.mainloop()\n",
    "\n"
   ]
  },
  {
   "cell_type": "code",
   "execution_count": 28,
   "id": "eca8f675-975b-4b22-9b87-aff8944fa2ae",
   "metadata": {
    "collapsed": true,
    "jupyter": {
     "outputs_hidden": true
    },
    "tags": []
   },
   "outputs": [
    {
     "data": {
      "text/html": [
       "<div>\n",
       "<style scoped>\n",
       "    .dataframe tbody tr th:only-of-type {\n",
       "        vertical-align: middle;\n",
       "    }\n",
       "\n",
       "    .dataframe tbody tr th {\n",
       "        vertical-align: top;\n",
       "    }\n",
       "\n",
       "    .dataframe thead th {\n",
       "        text-align: right;\n",
       "    }\n",
       "</style>\n",
       "<table border=\"1\" class=\"dataframe\">\n",
       "  <thead>\n",
       "    <tr style=\"text-align: right;\">\n",
       "      <th></th>\n",
       "      <th>name</th>\n",
       "      <th>age</th>\n",
       "    </tr>\n",
       "  </thead>\n",
       "  <tbody>\n",
       "    <tr>\n",
       "      <th>0</th>\n",
       "      <td>Bobby</td>\n",
       "      <td>30</td>\n",
       "    </tr>\n",
       "    <tr>\n",
       "      <th>1</th>\n",
       "      <td>Betty</td>\n",
       "      <td>31</td>\n",
       "    </tr>\n",
       "    <tr>\n",
       "      <th>2</th>\n",
       "      <td>Billy</td>\n",
       "      <td>5</td>\n",
       "    </tr>\n",
       "  </tbody>\n",
       "</table>\n",
       "</div>"
      ],
      "text/plain": [
       "    name  age\n",
       "0  Bobby   30\n",
       "1  Betty   31\n",
       "2  Billy    5"
      ]
     },
     "execution_count": 28,
     "metadata": {},
     "output_type": "execute_result"
    }
   ],
   "source": [
    "import pandas as pd\n",
    "pd.read_sql_query('''\n",
    "    SELECT * FROM app_data;\n",
    "    ''', sql_connect)"
   ]
  },
  {
   "cell_type": "code",
   "execution_count": null,
   "id": "66594e2f-78ec-480e-9577-66773796e5eb",
   "metadata": {},
   "outputs": [],
   "source": []
  }
 ],
 "metadata": {
  "kernelspec": {
   "display_name": "Python 3 (ipykernel)",
   "language": "python",
   "name": "python3"
  },
  "language_info": {
   "codemirror_mode": {
    "name": "ipython",
    "version": 3
   },
   "file_extension": ".py",
   "mimetype": "text/x-python",
   "name": "python",
   "nbconvert_exporter": "python",
   "pygments_lexer": "ipython3",
   "version": "3.11.5"
  }
 },
 "nbformat": 4,
 "nbformat_minor": 5
}
